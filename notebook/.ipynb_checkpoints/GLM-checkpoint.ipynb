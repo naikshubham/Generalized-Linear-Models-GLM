{
 "cells": [
  {
   "cell_type": "markdown",
   "metadata": {},
   "source": [
    "### Linear model, a special case of GLM\n",
    "- fit a linear model two ways, one using the ols() function and one using the glm() function. This will show how a linear model is a special case of a generalized linear model (GLM). \n",
    "- `ols(formula = 'y ~ X', data = my_data).fit() `\n",
    "- `glm(formula = 'y ~ X', data = my_data, family = sm.families.___).fit()`"
   ]
  },
  {
   "cell_type": "code",
   "execution_count": 1,
   "metadata": {},
   "outputs": [],
   "source": [
    "import pandas as pd\n",
    "import statsmodels.api as sm\n",
    "from statsmodels.formula.api import ols, glm"
   ]
  },
  {
   "cell_type": "code",
   "execution_count": 2,
   "metadata": {},
   "outputs": [
    {
     "data": {
      "text/html": [
       "<div>\n",
       "<style scoped>\n",
       "    .dataframe tbody tr th:only-of-type {\n",
       "        vertical-align: middle;\n",
       "    }\n",
       "\n",
       "    .dataframe tbody tr th {\n",
       "        vertical-align: top;\n",
       "    }\n",
       "\n",
       "    .dataframe thead th {\n",
       "        text-align: right;\n",
       "    }\n",
       "</style>\n",
       "<table border=\"1\" class=\"dataframe\">\n",
       "  <thead>\n",
       "    <tr style=\"text-align: right;\">\n",
       "      <th></th>\n",
       "      <th>Experience</th>\n",
       "      <th>Salary</th>\n",
       "    </tr>\n",
       "  </thead>\n",
       "  <tbody>\n",
       "    <tr>\n",
       "      <th>0</th>\n",
       "      <td>1.1</td>\n",
       "      <td>39343.0</td>\n",
       "    </tr>\n",
       "    <tr>\n",
       "      <th>1</th>\n",
       "      <td>1.3</td>\n",
       "      <td>46205.0</td>\n",
       "    </tr>\n",
       "    <tr>\n",
       "      <th>2</th>\n",
       "      <td>1.5</td>\n",
       "      <td>37731.0</td>\n",
       "    </tr>\n",
       "    <tr>\n",
       "      <th>3</th>\n",
       "      <td>2.0</td>\n",
       "      <td>43525.0</td>\n",
       "    </tr>\n",
       "    <tr>\n",
       "      <th>4</th>\n",
       "      <td>2.2</td>\n",
       "      <td>39891.0</td>\n",
       "    </tr>\n",
       "  </tbody>\n",
       "</table>\n",
       "</div>"
      ],
      "text/plain": [
       "   Experience   Salary\n",
       "0         1.1  39343.0\n",
       "1         1.3  46205.0\n",
       "2         1.5  37731.0\n",
       "3         2.0  43525.0\n",
       "4         2.2  39891.0"
      ]
     },
     "execution_count": 2,
     "metadata": {},
     "output_type": "execute_result"
    }
   ],
   "source": [
    "salary = pd.read_csv('./../data/salary.csv')\n",
    "salary.head()"
   ]
  },
  {
   "cell_type": "code",
   "execution_count": 3,
   "metadata": {},
   "outputs": [
    {
     "name": "stdout",
     "output_type": "stream",
     "text": [
      "Intercept     25792.200199\n",
      "Experience     9449.962321\n",
      "dtype: float64\n"
     ]
    }
   ],
   "source": [
    "# Fit a linear model\n",
    "model_lm = ols(formula = 'Salary ~ Experience',\n",
    "               data = salary).fit()\n",
    "\n",
    "# View model coefficients\n",
    "print(model_lm.params)"
   ]
  },
  {
   "cell_type": "markdown",
   "metadata": {},
   "source": [
    "- Fit a GLM using the same formula and data, as for the linear model, but this time include the Gaussian() family as additional input"
   ]
  },
  {
   "cell_type": "code",
   "execution_count": 4,
   "metadata": {},
   "outputs": [
    {
     "name": "stdout",
     "output_type": "stream",
     "text": [
      "Intercept     25792.200199\n",
      "Experience     9449.962321\n",
      "dtype: float64\n"
     ]
    }
   ],
   "source": [
    "# Fit a GLM\n",
    "model_glm = glm(formula = 'Salary ~ Experience',\n",
    "                data = salary,\n",
    "                family = sm.families.Gaussian()).fit()\n",
    "\n",
    "# View model coefficients\n",
    "print(model_glm.params)"
   ]
  },
  {
   "cell_type": "markdown",
   "metadata": {},
   "source": [
    "- Looking at the coefficient estimates, both models give the same values."
   ]
  },
  {
   "cell_type": "markdown",
   "metadata": {},
   "source": [
    "### Data type and distribution family\n",
    "- review the data types and apply the correct distribution family to fit a GLM.\n",
    "- Consider a study in which you are trying to predict the number of bike crossings over the Brooklyn bridge in New York City given daily temperature. "
   ]
  },
  {
   "cell_type": "code",
   "execution_count": 5,
   "metadata": {},
   "outputs": [
    {
     "data": {
      "text/html": [
       "<div>\n",
       "<style scoped>\n",
       "    .dataframe tbody tr th:only-of-type {\n",
       "        vertical-align: middle;\n",
       "    }\n",
       "\n",
       "    .dataframe tbody tr th {\n",
       "        vertical-align: top;\n",
       "    }\n",
       "\n",
       "    .dataframe thead th {\n",
       "        text-align: right;\n",
       "    }\n",
       "</style>\n",
       "<table border=\"1\" class=\"dataframe\">\n",
       "  <thead>\n",
       "    <tr style=\"text-align: right;\">\n",
       "      <th></th>\n",
       "      <th>Avg_Temp</th>\n",
       "      <th>Brooklyn_B</th>\n",
       "      <th>Total_Crossings</th>\n",
       "    </tr>\n",
       "  </thead>\n",
       "  <tbody>\n",
       "    <tr>\n",
       "      <th>0</th>\n",
       "      <td>72.05</td>\n",
       "      <td>1704.0</td>\n",
       "      <td>11497</td>\n",
       "    </tr>\n",
       "    <tr>\n",
       "      <th>1</th>\n",
       "      <td>51.95</td>\n",
       "      <td>827.0</td>\n",
       "      <td>6922</td>\n",
       "    </tr>\n",
       "    <tr>\n",
       "      <th>2</th>\n",
       "      <td>36.95</td>\n",
       "      <td>526.0</td>\n",
       "      <td>4759</td>\n",
       "    </tr>\n",
       "    <tr>\n",
       "      <th>3</th>\n",
       "      <td>38.60</td>\n",
       "      <td>521.0</td>\n",
       "      <td>4335</td>\n",
       "    </tr>\n",
       "    <tr>\n",
       "      <th>4</th>\n",
       "      <td>34.10</td>\n",
       "      <td>1416.0</td>\n",
       "      <td>9471</td>\n",
       "    </tr>\n",
       "  </tbody>\n",
       "</table>\n",
       "</div>"
      ],
      "text/plain": [
       "   Avg_Temp  Brooklyn_B  Total_Crossings\n",
       "0     72.05      1704.0            11497\n",
       "1     51.95       827.0             6922\n",
       "2     36.95       526.0             4759\n",
       "3     38.60       521.0             4335\n",
       "4     34.10      1416.0             9471"
      ]
     },
     "execution_count": 5,
     "metadata": {},
     "output_type": "execute_result"
    }
   ],
   "source": [
    "bike = pd.read_csv('./../data/bike.csv')\n",
    "bike.head()"
   ]
  },
  {
   "cell_type": "markdown",
   "metadata": {},
   "source": [
    "#### Poisson\n",
    "- visualize the data using the scatterplot"
   ]
  },
  {
   "cell_type": "code",
   "execution_count": 6,
   "metadata": {},
   "outputs": [
    {
     "data": {
      "text/plain": [
       "<Figure size 640x480 with 1 Axes>"
      ]
     },
     "metadata": {},
     "output_type": "display_data"
    }
   ],
   "source": [
    "import matplotlib.pyplot as plt\n",
    "plt.scatter(bike['Avg_Temp'], bike['Brooklyn_B'])\n",
    "plt.xlabel('Average daily temperature')\n",
    "plt.ylabel('Number of bike crossings')\n",
    "plt.show()"
   ]
  },
  {
   "cell_type": "markdown",
   "metadata": {},
   "source": [
    "- We decide to fit a GLM model. Now considering the response, the number of bike crossings, which distribution family would we consider for fitting a GLM model? --> **Poisson()**"
   ]
  },
  {
   "cell_type": "markdown",
   "metadata": {},
   "source": [
    "#### Binomial\n",
    "- Suppose we are working on a study helping banks approve loans and we are assigned to develop a model which would predict the probability of a default of a customer, i.e. if the bank grants a loan to a customer what is the probability that customer will not repay the loan. We want to predict the probability of default using Age of the customer.\n",
    "\n",
    "\n",
    "1. Default: Default (Yes = 1/No = 0)\n",
    "2. Credit_Amount: Credit amount\n",
    "\n",
    "\n",
    "- Visualize the data"
   ]
  },
  {
   "cell_type": "code",
   "execution_count": 7,
   "metadata": {},
   "outputs": [
    {
     "data": {
      "text/html": [
       "<div>\n",
       "<style scoped>\n",
       "    .dataframe tbody tr th:only-of-type {\n",
       "        vertical-align: middle;\n",
       "    }\n",
       "\n",
       "    .dataframe tbody tr th {\n",
       "        vertical-align: top;\n",
       "    }\n",
       "\n",
       "    .dataframe thead th {\n",
       "        text-align: right;\n",
       "    }\n",
       "</style>\n",
       "<table border=\"1\" class=\"dataframe\">\n",
       "  <thead>\n",
       "    <tr style=\"text-align: right;\">\n",
       "      <th></th>\n",
       "      <th>Default</th>\n",
       "      <th>Duration</th>\n",
       "      <th>Credit_Amount</th>\n",
       "      <th>Age</th>\n",
       "    </tr>\n",
       "  </thead>\n",
       "  <tbody>\n",
       "    <tr>\n",
       "      <th>0</th>\n",
       "      <td>0</td>\n",
       "      <td>6</td>\n",
       "      <td>1169</td>\n",
       "      <td>67</td>\n",
       "    </tr>\n",
       "    <tr>\n",
       "      <th>1</th>\n",
       "      <td>1</td>\n",
       "      <td>48</td>\n",
       "      <td>5951</td>\n",
       "      <td>22</td>\n",
       "    </tr>\n",
       "    <tr>\n",
       "      <th>2</th>\n",
       "      <td>0</td>\n",
       "      <td>12</td>\n",
       "      <td>2096</td>\n",
       "      <td>49</td>\n",
       "    </tr>\n",
       "    <tr>\n",
       "      <th>3</th>\n",
       "      <td>0</td>\n",
       "      <td>42</td>\n",
       "      <td>7882</td>\n",
       "      <td>45</td>\n",
       "    </tr>\n",
       "    <tr>\n",
       "      <th>4</th>\n",
       "      <td>1</td>\n",
       "      <td>24</td>\n",
       "      <td>4870</td>\n",
       "      <td>53</td>\n",
       "    </tr>\n",
       "  </tbody>\n",
       "</table>\n",
       "</div>"
      ],
      "text/plain": [
       "   Default  Duration  Credit_Amount  Age\n",
       "0        0         6           1169   67\n",
       "1        1        48           5951   22\n",
       "2        0        12           2096   49\n",
       "3        0        42           7882   45\n",
       "4        1        24           4870   53"
      ]
     },
     "execution_count": 7,
     "metadata": {},
     "output_type": "execute_result"
    }
   ],
   "source": [
    "default = pd.read_csv('./../data/default.csv')\n",
    "default.head()"
   ]
  },
  {
   "cell_type": "code",
   "execution_count": 8,
   "metadata": {},
   "outputs": [
    {
     "data": {
      "image/png": "[encoded data removed]",
      "text/plain": [
       "<Figure size 432x288 with 1 Axes>"
      ]
     },
     "metadata": {
      "needs_background": "light"
     },
     "output_type": "display_data"
    }
   ],
   "source": [
    "plt.xlabel('Credit Amount')\n",
    "plt.ylabel('Customer default (yes/no)')\n",
    "plt.scatter(default['Credit_Amount'], default['Default'])\n",
    "plt.show()"
   ]
  },
  {
   "cell_type": "markdown",
   "metadata": {},
   "source": [
    "- Considering the response, the event of a default, which distribution family you would consider for fitting a GLM model? -> **Binomial**"
   ]
  },
  {
   "cell_type": "markdown",
   "metadata": {},
   "source": [
    "#### Gaussian\n",
    "\n",
    "- suppose we are working on a study and would like to predict insurance costs given the BMI of the individual. Looking at the dataset ìnsurance we note there are three variables:\n",
    "\n",
    "- age: age of primary beneficiary\n",
    "- bmi: Body mass index\n",
    "- charges: Individual medical costs billed by health insurance\n"
   ]
  },
  {
   "cell_type": "code",
   "execution_count": 9,
   "metadata": {},
   "outputs": [
    {
     "data": {
      "text/html": [
       "<div>\n",
       "<style scoped>\n",
       "    .dataframe tbody tr th:only-of-type {\n",
       "        vertical-align: middle;\n",
       "    }\n",
       "\n",
       "    .dataframe tbody tr th {\n",
       "        vertical-align: top;\n",
       "    }\n",
       "\n",
       "    .dataframe thead th {\n",
       "        text-align: right;\n",
       "    }\n",
       "</style>\n",
       "<table border=\"1\" class=\"dataframe\">\n",
       "  <thead>\n",
       "    <tr style=\"text-align: right;\">\n",
       "      <th></th>\n",
       "      <th>age</th>\n",
       "      <th>bmi</th>\n",
       "      <th>charges</th>\n",
       "    </tr>\n",
       "  </thead>\n",
       "  <tbody>\n",
       "    <tr>\n",
       "      <th>0</th>\n",
       "      <td>19</td>\n",
       "      <td>27.900</td>\n",
       "      <td>16884.92400</td>\n",
       "    </tr>\n",
       "    <tr>\n",
       "      <th>1</th>\n",
       "      <td>18</td>\n",
       "      <td>33.770</td>\n",
       "      <td>1725.55230</td>\n",
       "    </tr>\n",
       "    <tr>\n",
       "      <th>2</th>\n",
       "      <td>28</td>\n",
       "      <td>33.000</td>\n",
       "      <td>4449.46200</td>\n",
       "    </tr>\n",
       "    <tr>\n",
       "      <th>3</th>\n",
       "      <td>33</td>\n",
       "      <td>22.705</td>\n",
       "      <td>21984.47061</td>\n",
       "    </tr>\n",
       "    <tr>\n",
       "      <th>4</th>\n",
       "      <td>32</td>\n",
       "      <td>28.880</td>\n",
       "      <td>3866.85520</td>\n",
       "    </tr>\n",
       "  </tbody>\n",
       "</table>\n",
       "</div>"
      ],
      "text/plain": [
       "   age     bmi      charges\n",
       "0   19  27.900  16884.92400\n",
       "1   18  33.770   1725.55230\n",
       "2   28  33.000   4449.46200\n",
       "3   33  22.705  21984.47061\n",
       "4   32  28.880   3866.85520"
      ]
     },
     "execution_count": 9,
     "metadata": {},
     "output_type": "execute_result"
    }
   ],
   "source": [
    "insurance = pd.read_csv('./../data/insurance.csv')\n",
    "insurance.head()"
   ]
  },
  {
   "cell_type": "code",
   "execution_count": 10,
   "metadata": {},
   "outputs": [
    {
     "data": {
      "image/png": "[encoded data removed]",
      "text/plain": [
       "<Figure size 432x288 with 1 Axes>"
      ]
     },
     "metadata": {
      "needs_background": "light"
     },
     "output_type": "display_data"
    }
   ],
   "source": [
    "plt.xlabel('BMI')\n",
    "plt.ylabel('Insurance Charges')\n",
    "plt.scatter(insurance['bmi'], insurance['charges'])\n",
    "plt.show()"
   ]
  },
  {
   "cell_type": "markdown",
   "metadata": {},
   "source": [
    "- Considering the response, the insurance charge, which distribution family we would consider for fitting a GLM model? -> **Gaussian**"
   ]
  },
  {
   "cell_type": "markdown",
   "metadata": {},
   "source": [
    "#### Linear model and a binary response variable\n",
    "- given the linear line fit, we can obtain fitted values y^, which are not in line with the logic of the problem since the response variable takes on values 0 and 1.\n",
    "- Using the crab dataset, we will study this effect by modeling y as a function of x using the GLM framework.\n",
    "-  recall that a GLM with:\n",
    "- the Gaussian family is a linear model (a special case of GLMs)\n",
    "- the Binomial family is a logistic regression model."
   ]
  },
  {
   "cell_type": "code",
   "execution_count": 11,
   "metadata": {},
   "outputs": [
    {
     "data": {
      "text/html": [
       "<div>\n",
       "<style scoped>\n",
       "    .dataframe tbody tr th:only-of-type {\n",
       "        vertical-align: middle;\n",
       "    }\n",
       "\n",
       "    .dataframe tbody tr th {\n",
       "        vertical-align: top;\n",
       "    }\n",
       "\n",
       "    .dataframe thead th {\n",
       "        text-align: right;\n",
       "    }\n",
       "</style>\n",
       "<table border=\"1\" class=\"dataframe\">\n",
       "  <thead>\n",
       "    <tr style=\"text-align: right;\">\n",
       "      <th></th>\n",
       "      <th>crab</th>\n",
       "      <th>sat</th>\n",
       "      <th>y</th>\n",
       "      <th>weight</th>\n",
       "      <th>width</th>\n",
       "      <th>color</th>\n",
       "      <th>spine</th>\n",
       "      <th>width_C</th>\n",
       "    </tr>\n",
       "  </thead>\n",
       "  <tbody>\n",
       "    <tr>\n",
       "      <th>0</th>\n",
       "      <td>1</td>\n",
       "      <td>8</td>\n",
       "      <td>1</td>\n",
       "      <td>3.05</td>\n",
       "      <td>28.3</td>\n",
       "      <td>2</td>\n",
       "      <td>3</td>\n",
       "      <td>[28.25, 29.25)</td>\n",
       "    </tr>\n",
       "    <tr>\n",
       "      <th>1</th>\n",
       "      <td>2</td>\n",
       "      <td>0</td>\n",
       "      <td>0</td>\n",
       "      <td>1.55</td>\n",
       "      <td>22.5</td>\n",
       "      <td>3</td>\n",
       "      <td>3</td>\n",
       "      <td>[0.0, 23.25)</td>\n",
       "    </tr>\n",
       "    <tr>\n",
       "      <th>2</th>\n",
       "      <td>3</td>\n",
       "      <td>9</td>\n",
       "      <td>1</td>\n",
       "      <td>2.30</td>\n",
       "      <td>26.0</td>\n",
       "      <td>1</td>\n",
       "      <td>1</td>\n",
       "      <td>[25.25, 26.25)</td>\n",
       "    </tr>\n",
       "    <tr>\n",
       "      <th>3</th>\n",
       "      <td>4</td>\n",
       "      <td>0</td>\n",
       "      <td>0</td>\n",
       "      <td>2.10</td>\n",
       "      <td>24.8</td>\n",
       "      <td>3</td>\n",
       "      <td>3</td>\n",
       "      <td>[24.25, 25.25)</td>\n",
       "    </tr>\n",
       "    <tr>\n",
       "      <th>4</th>\n",
       "      <td>5</td>\n",
       "      <td>4</td>\n",
       "      <td>1</td>\n",
       "      <td>2.60</td>\n",
       "      <td>26.0</td>\n",
       "      <td>3</td>\n",
       "      <td>3</td>\n",
       "      <td>[25.25, 26.25)</td>\n",
       "    </tr>\n",
       "  </tbody>\n",
       "</table>\n",
       "</div>"
      ],
      "text/plain": [
       "   crab  sat  y  weight  width  color  spine         width_C\n",
       "0     1    8  1    3.05   28.3      2      3  [28.25, 29.25)\n",
       "1     2    0  0    1.55   22.5      3      3    [0.0, 23.25)\n",
       "2     3    9  1    2.30   26.0      1      1  [25.25, 26.25)\n",
       "3     4    0  0    2.10   24.8      3      3  [24.25, 25.25)\n",
       "4     5    4  1    2.60   26.0      3      3  [25.25, 26.25)"
      ]
     },
     "execution_count": 11,
     "metadata": {},
     "output_type": "execute_result"
    }
   ],
   "source": [
    "crab = pd.read_csv('./../data/crab.csv')\n",
    "crab.head()"
   ]
  },
  {
   "cell_type": "markdown",
   "metadata": {},
   "source": [
    "- To fit a linear model using GLM formula, use Gaussian() for the family argument which assumes y is continuous and approximately normally distributed.\n",
    "- To fit a logistic model using GLM formula, use Binomial() for the family argument.\n",
    "- Using the crab dataset, define the model formula so that **y is predicted by width.**"
   ]
  },
  {
   "cell_type": "code",
   "execution_count": 12,
   "metadata": {},
   "outputs": [
    {
     "name": "stdout",
     "output_type": "stream",
     "text": [
      "                 Generalized Linear Model Regression Results                  \n",
      "==============================================================================\n",
      "Dep. Variable:                      y   No. Observations:                  173\n",
      "Model:                            GLM   Df Residuals:                      171\n",
      "Model Family:                Gaussian   Df Model:                            1\n",
      "Link Function:               identity   Scale:                         0.19515\n",
      "Method:                          IRLS   Log-Likelihood:                -103.13\n",
      "Date:                Sun, 14 Jun 2020   Deviance:                       33.371\n",
      "Time:                        22:26:28   Pearson chi2:                     33.4\n",
      "No. Iterations:                     3                                         \n",
      "Covariance Type:            nonrobust                                         \n",
      "==============================================================================\n",
      "                 coef    std err          z      P>|z|      [0.025      0.975]\n",
      "------------------------------------------------------------------------------\n",
      "Intercept     -1.7655      0.421     -4.190      0.000      -2.591      -0.940\n",
      "width          0.0915      0.016      5.731      0.000       0.060       0.123\n",
      "==============================================================================\n",
      "                 Generalized Linear Model Regression Results                  \n",
      "==============================================================================\n",
      "Dep. Variable:                      y   No. Observations:                  173\n",
      "Model:                            GLM   Df Residuals:                      171\n",
      "Model Family:                Binomial   Df Model:                            1\n",
      "Link Function:                  logit   Scale:                          1.0000\n",
      "Method:                          IRLS   Log-Likelihood:                -97.226\n",
      "Date:                Sun, 14 Jun 2020   Deviance:                       194.45\n",
      "Time:                        22:26:28   Pearson chi2:                     165.\n",
      "No. Iterations:                     4                                         \n",
      "Covariance Type:            nonrobust                                         \n",
      "==============================================================================\n",
      "                 coef    std err          z      P>|z|      [0.025      0.975]\n",
      "------------------------------------------------------------------------------\n",
      "Intercept    -12.3508      2.629     -4.698      0.000     -17.503      -7.199\n",
      "width          0.4972      0.102      4.887      0.000       0.298       0.697\n",
      "==============================================================================\n"
     ]
    }
   ],
   "source": [
    "# Define model formula\n",
    "formula = 'y ~ width'\n",
    "\n",
    "# Define probability distribution for the response variable for \n",
    "# the linear (LM) and logistic (GLM) model\n",
    "family_LM = sm.families.Gaussian()\n",
    "family_GLM = sm.families.Binomial()\n",
    "\n",
    "# Define and fit a linear regression model\n",
    "model_LM = glm(formula = formula, data = crab, family = family_LM).fit()\n",
    "print(model_LM.summary())\n",
    "\n",
    "# Define and fit a logistic regression model\n",
    "model_GLM = glm(formula = formula, data = crab, family = family_GLM).fit()\n",
    "print(model_GLM.summary())"
   ]
  },
  {
   "cell_type": "markdown",
   "metadata": {},
   "source": [
    "- **Observation** : Defining model formula should look familiar from linear regression. In GLMs we have to pay special attention to the `family` argument which specifies the probability distribution of the response."
   ]
  },
  {
   "cell_type": "markdown",
   "metadata": {},
   "source": [
    "### Comparing predicted values\n",
    "- We have fitted both a linear and a GLM (logistic) regression model using crab data, predicting ywith width. In other words, we wanted to predict the probability that the female has a satellite crab nearby given her width.\n",
    "- examine the estimated probabilities (the output) from the two models and try to deduce if the linear fit would be suitable for the problem at hand.\n",
    "- The usual practice is to test the model on new, unseen, data. Such dataset is called test sample."
   ]
  },
  {
   "cell_type": "code",
   "execution_count": 13,
   "metadata": {},
   "outputs": [
    {
     "data": {
      "text/html": [
       "<div>\n",
       "<style scoped>\n",
       "    .dataframe tbody tr th:only-of-type {\n",
       "        vertical-align: middle;\n",
       "    }\n",
       "\n",
       "    .dataframe tbody tr th {\n",
       "        vertical-align: top;\n",
       "    }\n",
       "\n",
       "    .dataframe thead th {\n",
       "        text-align: right;\n",
       "    }\n",
       "</style>\n",
       "<table border=\"1\" class=\"dataframe\">\n",
       "  <thead>\n",
       "    <tr style=\"text-align: right;\">\n",
       "      <th></th>\n",
       "      <th>y</th>\n",
       "      <th>width</th>\n",
       "    </tr>\n",
       "  </thead>\n",
       "  <tbody>\n",
       "    <tr>\n",
       "      <th>0</th>\n",
       "      <td>0</td>\n",
       "      <td>17.8</td>\n",
       "    </tr>\n",
       "    <tr>\n",
       "      <th>1</th>\n",
       "      <td>0</td>\n",
       "      <td>24.6</td>\n",
       "    </tr>\n",
       "    <tr>\n",
       "      <th>2</th>\n",
       "      <td>1</td>\n",
       "      <td>28.1</td>\n",
       "    </tr>\n",
       "    <tr>\n",
       "      <th>3</th>\n",
       "      <td>1</td>\n",
       "      <td>32.0</td>\n",
       "    </tr>\n",
       "    <tr>\n",
       "      <th>4</th>\n",
       "      <td>1</td>\n",
       "      <td>33.7</td>\n",
       "    </tr>\n",
       "  </tbody>\n",
       "</table>\n",
       "</div>"
      ],
      "text/plain": [
       "   y  width\n",
       "0  0   17.8\n",
       "1  0   24.6\n",
       "2  1   28.1\n",
       "3  1   32.0\n",
       "4  1   33.7"
      ]
     },
     "execution_count": 13,
     "metadata": {},
     "output_type": "execute_result"
    }
   ],
   "source": [
    "test = pd.DataFrame({'y':[0,0,1,1,1] , 'width':[17.8,24.6,28.1,32.0,33.7]})\n",
    "test.head()"
   ]
  },
  {
   "cell_type": "code",
   "execution_count": 14,
   "metadata": {},
   "outputs": [
    {
     "name": "stdout",
     "output_type": "stream",
     "text": [
      "   y  width   Pred_LM  Pred_GLM\n",
      "0  0   17.8 -0.136287  0.029309\n",
      "1  0   24.6  0.486122  0.470299\n",
      "2  1   28.1  0.806480  0.834983\n",
      "3  1   32.0  1.163450  0.972363\n",
      "4  1   33.7  1.319052  0.987941\n"
     ]
    }
   ],
   "source": [
    "# View test set\n",
    "# print(test)\n",
    "\n",
    "# Compute estimated probabilities for linear model: pred_lm\n",
    "pred_lm = model_LM.predict(test)\n",
    "\n",
    "# Compute estimated probabilities for GLM model: pred_glm\n",
    "pred_glm = model_GLM.predict(test)\n",
    "\n",
    "# Create dataframe of predictions for linear and GLM model: predictions\n",
    "predictions = pd.DataFrame({'Pred_LM': pred_lm, 'Pred_GLM': pred_glm})\n",
    "\n",
    "# Concatenate test sample and predictions and view the results\n",
    "all_data = pd.concat([test, predictions], axis = 1)\n",
    "print(all_data)"
   ]
  },
  {
   "cell_type": "markdown",
   "metadata": {},
   "source": [
    "- **Conclusion** : Comparing the predicted values for both models, the GLM model provides values within the (0,1) range as is required by the binary response variable."
   ]
  },
  {
   "cell_type": "markdown",
   "metadata": {},
   "source": [
    "### Model fitting step-by-step\n",
    "- The columns in the dataset are:\n",
    "\n",
    "\n",
    "1. switch: 1 if the change of the current well occurred; 0 otherwise\n",
    "2. arsenic: The level of arsenic contamination in the well\n",
    "3. distance: Distance to the closest known safe well\n",
    "4. education: Years of education of the head of the household\n"
   ]
  },
  {
   "cell_type": "code",
   "execution_count": 15,
   "metadata": {},
   "outputs": [
    {
     "data": {
      "text/html": [
       "<div>\n",
       "<style scoped>\n",
       "    .dataframe tbody tr th:only-of-type {\n",
       "        vertical-align: middle;\n",
       "    }\n",
       "\n",
       "    .dataframe tbody tr th {\n",
       "        vertical-align: top;\n",
       "    }\n",
       "\n",
       "    .dataframe thead th {\n",
       "        text-align: right;\n",
       "    }\n",
       "</style>\n",
       "<table border=\"1\" class=\"dataframe\">\n",
       "  <thead>\n",
       "    <tr style=\"text-align: right;\">\n",
       "      <th></th>\n",
       "      <th>switch</th>\n",
       "      <th>arsenic</th>\n",
       "      <th>distance</th>\n",
       "      <th>assoc</th>\n",
       "      <th>education</th>\n",
       "      <th>distance100</th>\n",
       "      <th>education4</th>\n",
       "    </tr>\n",
       "  </thead>\n",
       "  <tbody>\n",
       "    <tr>\n",
       "      <th>0</th>\n",
       "      <td>1</td>\n",
       "      <td>2.36</td>\n",
       "      <td>16.826000</td>\n",
       "      <td>0</td>\n",
       "      <td>0</td>\n",
       "      <td>0.16826</td>\n",
       "      <td>0</td>\n",
       "    </tr>\n",
       "    <tr>\n",
       "      <th>1</th>\n",
       "      <td>1</td>\n",
       "      <td>0.71</td>\n",
       "      <td>47.321999</td>\n",
       "      <td>0</td>\n",
       "      <td>0</td>\n",
       "      <td>0.47322</td>\n",
       "      <td>0</td>\n",
       "    </tr>\n",
       "    <tr>\n",
       "      <th>2</th>\n",
       "      <td>0</td>\n",
       "      <td>2.07</td>\n",
       "      <td>20.966999</td>\n",
       "      <td>0</td>\n",
       "      <td>10</td>\n",
       "      <td>0.20967</td>\n",
       "      <td>2</td>\n",
       "    </tr>\n",
       "    <tr>\n",
       "      <th>3</th>\n",
       "      <td>1</td>\n",
       "      <td>1.15</td>\n",
       "      <td>21.486000</td>\n",
       "      <td>0</td>\n",
       "      <td>12</td>\n",
       "      <td>0.21486</td>\n",
       "      <td>2</td>\n",
       "    </tr>\n",
       "    <tr>\n",
       "      <th>4</th>\n",
       "      <td>1</td>\n",
       "      <td>1.10</td>\n",
       "      <td>40.874001</td>\n",
       "      <td>1</td>\n",
       "      <td>14</td>\n",
       "      <td>0.40874</td>\n",
       "      <td>3</td>\n",
       "    </tr>\n",
       "  </tbody>\n",
       "</table>\n",
       "</div>"
      ],
      "text/plain": [
       "   switch  arsenic   distance  assoc  education  distance100  education4\n",
       "0       1     2.36  16.826000      0          0      0.16826           0\n",
       "1       1     0.71  47.321999      0          0      0.47322           0\n",
       "2       0     2.07  20.966999      0         10      0.20967           2\n",
       "3       1     1.15  21.486000      0         12      0.21486           2\n",
       "4       1     1.10  40.874001      1         14      0.40874           3"
      ]
     },
     "execution_count": 15,
     "metadata": {},
     "output_type": "execute_result"
    }
   ],
   "source": [
    "wells = pd.read_csv('./../data/wells.csv')\n",
    "wells.head()"
   ]
  },
  {
   "cell_type": "markdown",
   "metadata": {},
   "source": [
    "- Create a regression formula where switch is predicted by distance100"
   ]
  },
  {
   "cell_type": "code",
   "execution_count": 16,
   "metadata": {},
   "outputs": [],
   "source": [
    "# Define the formula the the logistic model\n",
    "model_formula = 'switch ~ distance100'"
   ]
  },
  {
   "cell_type": "markdown",
   "metadata": {},
   "source": [
    "- Define the link function using `logit` for the `Binomial` distribution."
   ]
  },
  {
   "cell_type": "code",
   "execution_count": 17,
   "metadata": {},
   "outputs": [
    {
     "name": "stderr",
     "output_type": "stream",
     "text": [
      "C:\\Users\\Shubham\\Anaconda3\\lib\\site-packages\\ipykernel_launcher.py:3: DeprecationWarning: Calling Family(..) with a link class as argument is deprecated.\n",
      "Use an instance of a link class instead.\n",
      "  This is separate from the ipykernel package so we can avoid doing imports until\n"
     ]
    }
   ],
   "source": [
    "# Define the correct probability distribution and the link function of the response variable\n",
    "link_function = sm.families.links.logit\n",
    "model_family = sm.families.Binomial(link = link_function)"
   ]
  },
  {
   "cell_type": "markdown",
   "metadata": {},
   "source": [
    "- fit the model using the glm() with the previously defined formula and family."
   ]
  },
  {
   "cell_type": "code",
   "execution_count": 18,
   "metadata": {},
   "outputs": [],
   "source": [
    "# Fit the model\n",
    "wells_fit = glm(formula = model_formula, \n",
    "                 data = wells, \n",
    "                 family = model_family).fit()"
   ]
  },
  {
   "cell_type": "markdown",
   "metadata": {},
   "source": [
    "- We have defined the components of the GLM and fit your first GLM model."
   ]
  },
  {
   "cell_type": "markdown",
   "metadata": {},
   "source": [
    "### Results of the model fit using summary()\n",
    "- The second step after fitting the model is to examine the model results. To do this we will use the `.summary()` function, which provides an overview of the model coefficients and how well they fit, along with several other statistical measures. "
   ]
  },
  {
   "cell_type": "code",
   "execution_count": 19,
   "metadata": {},
   "outputs": [
    {
     "name": "stdout",
     "output_type": "stream",
     "text": [
      "                 Generalized Linear Model Regression Results                  \n",
      "==============================================================================\n",
      "Dep. Variable:                 switch   No. Observations:                 3010\n",
      "Model:                            GLM   Df Residuals:                     3008\n",
      "Model Family:                Binomial   Df Model:                            1\n",
      "Link Function:                  logit   Scale:                          1.0000\n",
      "Method:                          IRLS   Log-Likelihood:                -2030.6\n",
      "Date:                Sun, 14 Jun 2020   Deviance:                       4061.3\n",
      "Time:                        22:26:28   Pearson chi2:                 3.01e+03\n",
      "No. Iterations:                     4                                         \n",
      "Covariance Type:            nonrobust                                         \n",
      "===============================================================================\n",
      "                  coef    std err          z      P>|z|      [0.025      0.975]\n",
      "-------------------------------------------------------------------------------\n",
      "Intercept       0.6108      0.060     10.104      0.000       0.492       0.729\n",
      "distance100    -0.6291      0.098     -6.446      0.000      -0.820      -0.438\n",
      "===============================================================================\n"
     ]
    }
   ],
   "source": [
    "# View the results of the wells_fit model\n",
    "print(wells_fit.summary())"
   ]
  },
  {
   "cell_type": "markdown",
   "metadata": {},
   "source": [
    "### Extracting parameter estimates\n",
    "- Coefficient estimates are generally of main interest in a regression model.\n",
    "- extract the coefficients from the model object.\n",
    "- The attribute `.params` contains the coefficients of the fitted model, starting with the intercept value. To compute a 95% confidence interval for the coefficients we can use the method `.conf_int()` of the fitted model wells_fit."
   ]
  },
  {
   "cell_type": "code",
   "execution_count": 20,
   "metadata": {},
   "outputs": [
    {
     "name": "stdout",
     "output_type": "stream",
     "text": [
      "Intercept = 0.6108118803818956\n",
      "Slope = -0.6290808479557681\n",
      "                    0         1\n",
      "Intercept    0.492327  0.729297\n",
      "distance100 -0.820345 -0.437816\n"
     ]
    }
   ],
   "source": [
    "# Extract coefficients from the fitted model wells_fit\n",
    "intercept, slope = wells_fit.params\n",
    "\n",
    "# Print coefficients\n",
    "print('Intercept =', intercept)\n",
    "print('Slope =', slope)\n",
    "\n",
    "# Extract and print confidence intervals\n",
    "print(wells_fit.conf_int())"
   ]
  },
  {
   "cell_type": "markdown",
   "metadata": {},
   "source": [
    "- Now we have a working knowledge of how to fit a model and extract coefficients. Are the coefficients within the confidence intervals?"
   ]
  },
  {
   "cell_type": "markdown",
   "metadata": {},
   "source": [
    "### Fit logistic regression\n"
   ]
  },
  {
   "cell_type": "code",
   "execution_count": 21,
   "metadata": {},
   "outputs": [
    {
     "data": {
      "text/html": [
       "<div>\n",
       "<style scoped>\n",
       "    .dataframe tbody tr th:only-of-type {\n",
       "        vertical-align: middle;\n",
       "    }\n",
       "\n",
       "    .dataframe tbody tr th {\n",
       "        vertical-align: top;\n",
       "    }\n",
       "\n",
       "    .dataframe thead th {\n",
       "        text-align: right;\n",
       "    }\n",
       "</style>\n",
       "<table border=\"1\" class=\"dataframe\">\n",
       "  <thead>\n",
       "    <tr style=\"text-align: right;\">\n",
       "      <th></th>\n",
       "      <th>switch</th>\n",
       "      <th>arsenic</th>\n",
       "      <th>distance</th>\n",
       "      <th>assoc</th>\n",
       "      <th>education</th>\n",
       "      <th>distance100</th>\n",
       "      <th>education4</th>\n",
       "    </tr>\n",
       "  </thead>\n",
       "  <tbody>\n",
       "    <tr>\n",
       "      <th>0</th>\n",
       "      <td>1</td>\n",
       "      <td>2.36</td>\n",
       "      <td>16.826000</td>\n",
       "      <td>0</td>\n",
       "      <td>0</td>\n",
       "      <td>0.16826</td>\n",
       "      <td>0</td>\n",
       "    </tr>\n",
       "    <tr>\n",
       "      <th>1</th>\n",
       "      <td>1</td>\n",
       "      <td>0.71</td>\n",
       "      <td>47.321999</td>\n",
       "      <td>0</td>\n",
       "      <td>0</td>\n",
       "      <td>0.47322</td>\n",
       "      <td>0</td>\n",
       "    </tr>\n",
       "    <tr>\n",
       "      <th>2</th>\n",
       "      <td>0</td>\n",
       "      <td>2.07</td>\n",
       "      <td>20.966999</td>\n",
       "      <td>0</td>\n",
       "      <td>10</td>\n",
       "      <td>0.20967</td>\n",
       "      <td>2</td>\n",
       "    </tr>\n",
       "    <tr>\n",
       "      <th>3</th>\n",
       "      <td>1</td>\n",
       "      <td>1.15</td>\n",
       "      <td>21.486000</td>\n",
       "      <td>0</td>\n",
       "      <td>12</td>\n",
       "      <td>0.21486</td>\n",
       "      <td>2</td>\n",
       "    </tr>\n",
       "    <tr>\n",
       "      <th>4</th>\n",
       "      <td>1</td>\n",
       "      <td>1.10</td>\n",
       "      <td>40.874001</td>\n",
       "      <td>1</td>\n",
       "      <td>14</td>\n",
       "      <td>0.40874</td>\n",
       "      <td>3</td>\n",
       "    </tr>\n",
       "  </tbody>\n",
       "</table>\n",
       "</div>"
      ],
      "text/plain": [
       "   switch  arsenic   distance  assoc  education  distance100  education4\n",
       "0       1     2.36  16.826000      0          0      0.16826           0\n",
       "1       1     0.71  47.321999      0          0      0.47322           0\n",
       "2       0     2.07  20.966999      0         10      0.20967           2\n",
       "3       1     1.15  21.486000      0         12      0.21486           2\n",
       "4       1     1.10  40.874001      1         14      0.40874           3"
      ]
     },
     "execution_count": 21,
     "metadata": {},
     "output_type": "execute_result"
    }
   ],
   "source": [
    "wells.head()"
   ]
  },
  {
   "cell_type": "code",
   "execution_count": 22,
   "metadata": {},
   "outputs": [
    {
     "name": "stdout",
     "output_type": "stream",
     "text": [
      "                 Generalized Linear Model Regression Results                  \n",
      "==============================================================================\n",
      "Dep. Variable:                 switch   No. Observations:                 3010\n",
      "Model:                            GLM   Df Residuals:                     3008\n",
      "Model Family:                Binomial   Df Model:                            1\n",
      "Link Function:                  logit   Scale:                          1.0000\n",
      "Method:                          IRLS   Log-Likelihood:                -1997.3\n",
      "Date:                Sun, 14 Jun 2020   Deviance:                       3994.6\n",
      "Time:                        22:26:28   Pearson chi2:                 3.03e+03\n",
      "No. Iterations:                     4                                         \n",
      "Covariance Type:            nonrobust                                         \n",
      "==============================================================================\n",
      "                 coef    std err          z      P>|z|      [0.025      0.975]\n",
      "------------------------------------------------------------------------------\n",
      "Intercept     -0.3058      0.070     -4.340      0.000      -0.444      -0.168\n",
      "arsenic        0.3799      0.039      9.837      0.000       0.304       0.456\n",
      "==============================================================================\n"
     ]
    }
   ],
   "source": [
    "# Load libraries and functions\n",
    "import statsmodels.api as sm\n",
    "from statsmodels.formula.api import glm\n",
    "\n",
    "# Fit logistic regression model\n",
    "model_GLM = glm(formula = 'switch ~ arsenic',\n",
    "                data = wells,\n",
    "                family = sm.families.Binomial()).fit()\n",
    "\n",
    "# Print model summary\n",
    "print(model_GLM.summary())"
   ]
  },
  {
   "cell_type": "markdown",
   "metadata": {},
   "source": [
    "- A model with arsenic estimated a positive coefficient with an ascending sigmoid curve."
   ]
  },
  {
   "cell_type": "code",
   "execution_count": 23,
   "metadata": {},
   "outputs": [
    {
     "name": "stdout",
     "output_type": "stream",
     "text": [
      "                 Generalized Linear Model Regression Results                  \n",
      "==============================================================================\n",
      "Dep. Variable:                 switch   No. Observations:                 3010\n",
      "Model:                            GLM   Df Residuals:                     3008\n",
      "Model Family:                Binomial   Df Model:                            1\n",
      "Link Function:                  logit   Scale:                          1.0000\n",
      "Method:                          IRLS   Log-Likelihood:                -2030.6\n",
      "Date:                Sun, 14 Jun 2020   Deviance:                       4061.3\n",
      "Time:                        22:26:28   Pearson chi2:                 3.01e+03\n",
      "No. Iterations:                     4                                         \n",
      "Covariance Type:            nonrobust                                         \n",
      "===============================================================================\n",
      "                  coef    std err          z      P>|z|      [0.025      0.975]\n",
      "-------------------------------------------------------------------------------\n",
      "Intercept       0.6108      0.060     10.104      0.000       0.492       0.729\n",
      "distance100    -0.6291      0.098     -6.446      0.000      -0.820      -0.438\n",
      "===============================================================================\n"
     ]
    }
   ],
   "source": [
    "model_GLM = glm(formula = 'switch ~ distance100',\n",
    "                data = wells,\n",
    "                family = sm.families.Binomial()).fit()\n",
    "\n",
    "# Print model summary\n",
    "print(model_GLM.summary())"
   ]
  },
  {
   "cell_type": "markdown",
   "metadata": {},
   "source": [
    "- On contrary, a model with distance variable has negative coefficient with a descending sigmoid curve."
   ]
  },
  {
   "cell_type": "markdown",
   "metadata": {},
   "source": [
    "### Coefficients in terms of odds\n",
    "-  the logistic regression model is in terms of log odds, to obtain by how much would the odds multiply given a unit increase in x you would exponentiate the coefficient estimates. This is also called odds ratio.\n",
    "-  odds are a ratio of event occurring to the event not occurring. For example, if the odds of winning a game are 1/2 or 1 to 2 (1:2), it means that for every one win there are 2 losses."
   ]
  },
  {
   "cell_type": "code",
   "execution_count": 24,
   "metadata": {},
   "outputs": [
    {
     "name": "stdout",
     "output_type": "stream",
     "text": [
      "Model coefficients: \n",
      " Intercept      0.610812\n",
      "distance100   -0.629081\n",
      "dtype: float64\n",
      "Odds: \n",
      " Intercept      1.841926\n",
      "distance100    0.533082\n",
      "dtype: float64\n"
     ]
    }
   ],
   "source": [
    "# Load libraries and functions\n",
    "import statsmodels.api as sm\n",
    "from statsmodels.formula.api import glm\n",
    "import numpy as np\n",
    "\n",
    "# Fit logistic regression model\n",
    "model_GLM = glm(formula = \"switch ~ distance100\",\n",
    "                data = wells,\n",
    "                family = sm.families.Binomial()).fit() \n",
    "\n",
    "# Extract model coefficients\n",
    "print('Model coefficients: \\n', model_GLM.params)\n",
    "\n",
    "# Compute the multiplicative effect on the odds\n",
    "print('Odds: \\n', np.exp(model_GLM.params))"
   ]
  },
  {
   "cell_type": "markdown",
   "metadata": {},
   "source": [
    "- The odds of switching the well is 1/2 for a 1-unit (100m) increase in distance, so for every one switch (household switches to the nearest safe well) there would be 2 households who would not switch to the nearest safe well."
   ]
  },
  {
   "cell_type": "markdown",
   "metadata": {},
   "source": [
    "### Model formula\n",
    "- log(p1−p)=0.606−0.6219∗distance100 : is the correct formulation of the fitted logit model!"
   ]
  },
  {
   "cell_type": "markdown",
   "metadata": {},
   "source": [
    "### Interpreting logistic model\n",
    "- With one-unit increase in distance100 the log odds decrease by -0.6219. the log odds change with one-unit change in x!"
   ]
  },
  {
   "cell_type": "markdown",
   "metadata": {},
   "source": [
    "### Rate of change in probability\n",
    "- log(μ1−μ)=0.6060−0.6219×distance100\n",
    "- understand how the estimated probability changes at a certain value of distance100, say 1.5\n",
    "- the inverse-logit (probability) , μ=exp(β0+β1x1)1+exp(β0+β1x1)\n",
    "- and the slope of the tangent line of the model fit at point x β∗μ(1−μ)"
   ]
  },
  {
   "cell_type": "code",
   "execution_count": 25,
   "metadata": {},
   "outputs": [
    {
     "name": "stdout",
     "output_type": "stream",
     "text": [
      "Estimated probability at x = 1.5:  0.4176\n",
      "The rate of change in probability:  -0.153\n"
     ]
    }
   ],
   "source": [
    "# Define x at 1.5\n",
    "x = 1.5\n",
    "\n",
    "# Extract intercept & slope from the fitted model\n",
    "intercept, slope = model_GLM.params\n",
    "\n",
    "# Compute and print the estimated probability\n",
    "est_prob = np.exp(intercept + slope*x)/(1+np.exp(intercept + slope*x))\n",
    "print('Estimated probability at x = 1.5: ', round(est_prob, 4))\n",
    "\n",
    "# Compute the slope of the tangent line for parameter beta at x\n",
    "slope_tan = slope * est_prob * (1 - est_prob)\n",
    "print('The rate of change in probability: ', round(slope_tan,4))"
   ]
  },
  {
   "cell_type": "markdown",
   "metadata": {},
   "source": [
    "- So at the distance100 value of 1.5 the estimated probability is 0.419 with the rate of change in the estimated probability of negative 0.1514. This means that for every 1oo m increase in distance100 at the distance100 value of 1.5 the probability of well switch decreases by 15,14%."
   ]
  },
  {
   "cell_type": "markdown",
   "metadata": {},
   "source": [
    "### Statistical significance\n",
    "-  assess the significance of the estimated coefficients but with width as explanatory variable instead. Coefficients help us determine the significance of the relationship that we are trying to model, where a positive sign increases the probability of an event as the predictor increases and vice versa. "
   ]
  },
  {
   "cell_type": "code",
   "execution_count": 26,
   "metadata": {},
   "outputs": [
    {
     "name": "stdout",
     "output_type": "stream",
     "text": [
      "                 Generalized Linear Model Regression Results                  \n",
      "==============================================================================\n",
      "Dep. Variable:                      y   No. Observations:                  173\n",
      "Model:                            GLM   Df Residuals:                      171\n",
      "Model Family:                Binomial   Df Model:                            1\n",
      "Link Function:                  logit   Scale:                          1.0000\n",
      "Method:                          IRLS   Log-Likelihood:                -97.226\n",
      "Date:                Sun, 14 Jun 2020   Deviance:                       194.45\n",
      "Time:                        22:26:28   Pearson chi2:                     165.\n",
      "No. Iterations:                     4                                         \n",
      "Covariance Type:            nonrobust                                         \n",
      "==============================================================================\n",
      "                 coef    std err          z      P>|z|      [0.025      0.975]\n",
      "------------------------------------------------------------------------------\n",
      "Intercept    -12.3508      2.629     -4.698      0.000     -17.503      -7.199\n",
      "width          0.4972      0.102      4.887      0.000       0.298       0.697\n",
      "==============================================================================\n"
     ]
    }
   ],
   "source": [
    "# Import libraries and th glm function\n",
    "import statsmodels.api as sm\n",
    "from statsmodels.formula.api import glm\n",
    "\n",
    "# Fit logistic regression and save as crab_GLM\n",
    "crab_GLM = glm('y ~ width', data = crab, family = sm.families.Binomial()).fit()\n",
    "\n",
    "# Print model summary\n",
    "print(crab_GLM.summary())"
   ]
  },
  {
   "cell_type": "markdown",
   "metadata": {},
   "source": [
    "- What is the relationship between width of the female crab and the probability of satellite in the nest? : -> There is a positive significant relationship (width increases the chance of a satellite).\n",
    "-  the estimate is positive meaning that the fit is upward sloping which means that width increases the chance of a satellite."
   ]
  },
  {
   "cell_type": "markdown",
   "metadata": {},
   "source": [
    "### Computing Wald statistic\n",
    "- assess the significance of the width variable by computing the Wald statistic.\n",
    "-  in the model summary the Wald statistic is presented by the letter z which means that the value of a statistic follows a standard normal distribution. Recall the formula for the Wald statistic:\n",
    "\n",
    "z=β^/SE\n",
    "\n",
    "where β^\n",
    "is the estimated coefficient and SE its standard error."
   ]
  },
  {
   "cell_type": "code",
   "execution_count": 27,
   "metadata": {},
   "outputs": [
    {
     "name": "stdout",
     "output_type": "stream",
     "text": [
      "           Intercept     width\n",
      "Intercept   6.910158 -0.266848\n",
      "width      -0.266848  0.010350\n",
      "SE:  0.1017\n",
      "Wald statistic:  4.8875\n"
     ]
    }
   ],
   "source": [
    "# Extract coefficients\n",
    "intercept, slope = crab_GLM.params\n",
    "\n",
    "# Estimated covariance matrix: crab_cov\n",
    "crab_cov = crab_GLM.cov_params()\n",
    "print(crab_cov)\n",
    "\n",
    "# Compute standard error (SE): std_error\n",
    "std_error = np.sqrt(crab_cov.loc['width', 'width'])\n",
    "print('SE: ', round(std_error, 4))\n",
    "\n",
    "# Compute Wald statistic\n",
    "wald_stat = slope/std_error\n",
    "print('Wald statistic: ', round(wald_stat,4))"
   ]
  },
  {
   "cell_type": "markdown",
   "metadata": {},
   "source": [
    "- With the Wald statistic at 4.887 we can conclude that the width variable is statistically significant if we apply the rule of thumb cut-off value of 2."
   ]
  },
  {
   "cell_type": "markdown",
   "metadata": {},
   "source": [
    "### Confidence intervals\n",
    "-  asses the uncertainty of the coefficients by computing the confidence intervals.\n",
    "\n",
    "Recall formulas for confidence intervals discussed in the video:\n",
    "\n",
    "    95% confidence intervals for the parameter β\n",
    "\n",
    "β^±1.96∗SE\n",
    "\n",
    "95% confidence intervals for odds\n",
    "exp(β^±1.96∗SE)"
   ]
  },
  {
   "cell_type": "code",
   "execution_count": 28,
   "metadata": {},
   "outputs": [
    {
     "name": "stdout",
     "output_type": "stream",
     "text": [
      "                   0         1\n",
      "Intercept -17.503010 -7.198625\n",
      "width       0.297833  0.696629\n"
     ]
    }
   ],
   "source": [
    "# Extract and print confidence intervals\n",
    "print(crab_GLM.conf_int())"
   ]
  },
  {
   "cell_type": "code",
   "execution_count": 29,
   "metadata": {},
   "outputs": [
    {
     "name": "stdout",
     "output_type": "stream",
     "text": [
      "                      0         1\n",
      "Intercept  2.503452e-08  0.000748\n",
      "width      1.346936e+00  2.006975\n"
     ]
    }
   ],
   "source": [
    "# Compute confidence intervals for the odds\n",
    "print(np.exp(crab_GLM.conf_int()))"
   ]
  },
  {
   "cell_type": "markdown",
   "metadata": {},
   "source": [
    "- We can conclude that a 1 cm increase in width of a female crab has at least 35% increase odds (from lower bound) and at most it doubles the odds (from upper bound) that a satellite crab is present."
   ]
  },
  {
   "cell_type": "markdown",
   "metadata": {},
   "source": [
    "### Visualize model fit using regplot()\n",
    "- After having fitted and analyzed the model we can visualize it by plotting the observation points and the fitted logistic regression.\n",
    "- Using the plot we can visually understand the relationship of the explanatory variable and the response for the range of values of the explanatory variable.\n",
    "- We can use the `regplot()` function from the seaborn module for this. The `regplot()` function takes an argument logistic, which allows us to specify whether we wish to estimate the logistic regression model for the given data using True or False values. This will also produce the plot of the fit.\n",
    "\n",
    "Steps\n",
    "1. Apply y_jitter of 0.03 to spread the values of the response for easier visualization.\n",
    "2. Use True for argument logistic for the plot to overlay the logistic function on the given data and set confidence intervals argument ci to None which will not display confidence interval, but it will speed up the computation."
   ]
  },
  {
   "cell_type": "code",
   "execution_count": 31,
   "metadata": {},
   "outputs": [
    {
     "data": {
      "image/png": "[encoded data removed]",
      "text/plain": [
       "<Figure size 432x288 with 1 Axes>"
      ]
     },
     "metadata": {
      "needs_background": "light"
     },
     "output_type": "display_data"
    }
   ],
   "source": [
    "import seaborn as sns\n",
    "\n",
    "# Plot distance and switch and add overlay with the logistic fit\n",
    "sns.regplot(x = 'arsenic', y = 'switch', \n",
    "            y_jitter = 0.03,\n",
    "            data = wells, \n",
    "            logistic = True,\n",
    "            ci = None)\n",
    "\n",
    "# Display the plot\n",
    "plt.show()"
   ]
  },
  {
   "cell_type": "markdown",
   "metadata": {},
   "source": [
    "- We have learned how to plot your training data and add a logistic regression fit to it"
   ]
  },
  {
   "cell_type": "markdown",
   "metadata": {},
   "source": [
    "### Compute predictions\n",
    "- Note that .predict() takes in several arguments:\n",
    "\n",
    "- exog - new observations (test dataset)\n",
    "- transform = True - passes the formula of the fit y ~ x to the data.\n"
   ]
  },
  {
   "cell_type": "code",
   "execution_count": 34,
   "metadata": {},
   "outputs": [
    {
     "name": "stdout",
     "output_type": "stream",
     "text": [
      "   switch  arsenic  prediction\n",
      "0       1     2.36    0.623625\n",
      "1       1     0.71    0.577646\n",
      "2       0     2.07    0.617491\n",
      "3       1     1.15    0.616720\n",
      "4       1     1.10    0.587510\n"
     ]
    }
   ],
   "source": [
    "# Compute predictions for the test sample wells_test and save as prediction\n",
    "prediction = wells_fit.predict(exog = wells)\n",
    "\n",
    "# Add prediction to the existing data frame wells_test and assign column name prediction\n",
    "wells['prediction'] = prediction\n",
    "\n",
    "# Examine the first 5 computed predictions\n",
    "print(wells[['switch', 'arsenic', 'prediction']].head())"
   ]
  },
  {
   "cell_type": "markdown",
   "metadata": {},
   "source": [
    "- We have learned how to make predictions using our fitted model by computing estimated probabilities. This is a very useful tool as many research questions relate to prediction models."
   ]
  },
  {
   "cell_type": "markdown",
   "metadata": {},
   "source": [
    "### Compute confusion matrix"
   ]
  },
  {
   "cell_type": "code",
   "execution_count": 36,
   "metadata": {},
   "outputs": [
    {
     "name": "stdout",
     "output_type": "stream",
     "text": [
      "Predicted    0     1   All\n",
      "Actual                    \n",
      "0          196  1082  1278\n",
      "1          133  1599  1732\n",
      "All        329  2681  3010\n"
     ]
    }
   ],
   "source": [
    "# Compute class predictions y_pred\n",
    "cutoff = 0.5\n",
    "y_prediction = np.where(prediction > cutoff, 1, 0)\n",
    "\n",
    "# Assign actual class labels from the test sample to y_actual\n",
    "y_actual = wells['switch']\n",
    "\n",
    "# Compute and print confusion matrix using crosstab function\n",
    "conf_mat = pd.crosstab(y_actual, y_prediction, \n",
    "                       rownames=['Actual'], \n",
    "                       colnames=['Predicted'], \n",
    "                       margins = True)\n",
    "                      \n",
    "# Print the confusion matrix\n",
    "print(conf_mat)"
   ]
  },
  {
   "cell_type": "markdown",
   "metadata": {},
   "source": [
    "## Poisson Regression\n",
    "\n",
    "### Visualize the response\n",
    "- examine the response variable visually to assess the parameter value, spread of the distribution or its skewness."
   ]
  },
  {
   "cell_type": "code",
   "execution_count": 37,
   "metadata": {},
   "outputs": [
    {
     "data": {
      "image/png": "[encoded data removed]",
      "text/plain": [
       "<Figure size 432x288 with 1 Axes>"
      ]
     },
     "metadata": {
      "needs_background": "light"
     },
     "output_type": "display_data"
    }
   ],
   "source": [
    "# Import libraries\n",
    "import seaborn as sns\n",
    "import matplotlib.pyplot as plt\n",
    "\n",
    "# Plot sat variable\n",
    "sns.distplot(crab['sat'])\n",
    "\n",
    "# Display the plot\n",
    "plt.show()"
   ]
  },
  {
   "cell_type": "markdown",
   "metadata": {},
   "source": [
    "- Visualizing the response variable there is apparent skewness of the distribution."
   ]
  },
  {
   "cell_type": "markdown",
   "metadata": {},
   "source": [
    "### Fitting a Poisson regression"
   ]
  },
  {
   "cell_type": "code",
   "execution_count": 38,
   "metadata": {},
   "outputs": [
    {
     "name": "stdout",
     "output_type": "stream",
     "text": [
      "                 Generalized Linear Model Regression Results                  \n",
      "==============================================================================\n",
      "Dep. Variable:                    sat   No. Observations:                  173\n",
      "Model:                            GLM   Df Residuals:                      171\n",
      "Model Family:                 Poisson   Df Model:                            1\n",
      "Link Function:                    log   Scale:                          1.0000\n",
      "Method:                          IRLS   Log-Likelihood:                -458.08\n",
      "Date:                Mon, 15 Jun 2020   Deviance:                       560.87\n",
      "Time:                        00:04:57   Pearson chi2:                     536.\n",
      "No. Iterations:                     5                                         \n",
      "Covariance Type:            nonrobust                                         \n",
      "==============================================================================\n",
      "                 coef    std err          z      P>|z|      [0.025      0.975]\n",
      "------------------------------------------------------------------------------\n",
      "Intercept     -0.4284      0.179     -2.394      0.017      -0.779      -0.078\n",
      "weight         0.5893      0.065      9.064      0.000       0.462       0.717\n",
      "==============================================================================\n"
     ]
    }
   ],
   "source": [
    "# Import libraries\n",
    "import statsmodels.api as sm\n",
    "from statsmodels.formula.api import glm\n",
    "\n",
    "# Fit Poisson regression of sat by weight\n",
    "model = glm('sat ~ weight', data = crab, family = sm.families.Poisson()).fit()\n",
    "\n",
    "# Display model results\n",
    "print(model.summary())"
   ]
  },
  {
   "cell_type": "markdown",
   "metadata": {},
   "source": [
    "### Estimate parameter lambda\n",
    "\n",
    "the log link function provides for the linear combination in the parameters defining the Poisson regression model of the form\n",
    "\n",
    "log(λ)=β0+β1x1\n",
    "\n",
    "To obtain the response function in terms of lambda we exponentiated the model function to obtain\n",
    "\n",
    "λ=E(y)=exp(β0+β1x1)\n",
    "\n",
    "\n",
    "λ=E(y)=exp(β0)×exp(β1x1)"
   ]
  },
  {
   "cell_type": "code",
   "execution_count": 39,
   "metadata": {},
   "outputs": [
    {
     "name": "stdout",
     "output_type": "stream",
     "text": [
      "                 Generalized Linear Model Regression Results                  \n",
      "==============================================================================\n",
      "Dep. Variable:                    sat   No. Observations:                  173\n",
      "Model:                            GLM   Df Residuals:                      171\n",
      "Model Family:                 Poisson   Df Model:                            1\n",
      "Link Function:                    log   Scale:                          1.0000\n",
      "Method:                          IRLS   Log-Likelihood:                -461.59\n",
      "Date:                Mon, 15 Jun 2020   Deviance:                       567.88\n",
      "Time:                        00:25:02   Pearson chi2:                     544.\n",
      "No. Iterations:                     5                                         \n",
      "Covariance Type:            nonrobust                                         \n",
      "==============================================================================\n",
      "                 coef    std err          z      P>|z|      [0.025      0.975]\n",
      "------------------------------------------------------------------------------\n",
      "Intercept     -3.3048      0.542     -6.095      0.000      -4.368      -2.242\n",
      "width          0.1640      0.020      8.216      0.000       0.125       0.203\n",
      "==============================================================================\n"
     ]
    }
   ],
   "source": [
    "# Import libraries\n",
    "import statsmodels.api as sm\n",
    "from statsmodels.formula.api import glm\n",
    "\n",
    "# Fit Poisson regression of sat by width\n",
    "model = glm('sat ~ width', data = crab, family = sm.families.Poisson()).fit()\n",
    "\n",
    "# Display model results\n",
    "print(model.summary())"
   ]
  },
  {
   "cell_type": "code",
   "execution_count": 40,
   "metadata": {},
   "outputs": [
    {
     "name": "stdout",
     "output_type": "stream",
     "text": [
      "Average width:  26.299\n",
      "Estimated mean of y at average width:  2.744\n"
     ]
    }
   ],
   "source": [
    "# Compute average crab width\n",
    "mean_width = np.mean(crab['width'])\n",
    "\n",
    "# Print the compute mean\n",
    "print('Average width: ', round(mean_width, 3))\n",
    "\n",
    "# Extract coefficients\n",
    "intercept, slope = model.params\n",
    "\n",
    "# Compute the estimated mean of y (lambda) at the average width\n",
    "est_lambda = np.exp(intercept) * np.exp(slope * mean_width)\n",
    "\n",
    "# Print estimated mean of y\n",
    "print('Estimated mean of y at average width: ', round(est_lambda, 3))"
   ]
  },
  {
   "cell_type": "markdown",
   "metadata": {},
   "source": [
    "- The Poisson regression model states that at the mean value of female crab width of 26.3 the expected mean number of satellite crabs present is 2.74."
   ]
  },
  {
   "cell_type": "markdown",
   "metadata": {},
   "source": [
    "### Interpret Poisson coefficients\n",
    "- Using the fitted model further analyze the results by interpreting coefficients and the multiplicative effect on the mean of the response.\n",
    "- `The estimate β1 is positive meaning that the effect on the mean of the response will be exp(β1) times larger than if x=0.`"
   ]
  },
  {
   "cell_type": "code",
   "execution_count": 41,
   "metadata": {},
   "outputs": [
    {
     "name": "stdout",
     "output_type": "stream",
     "text": [
      "1.1782674386452303\n"
     ]
    }
   ],
   "source": [
    "# Extract coefficients\n",
    "intercept, slope = model.params\n",
    "\n",
    "# Compute and print the multiplicative effect\n",
    "print(np.exp(0.1640450871749233))"
   ]
  },
  {
   "cell_type": "markdown",
   "metadata": {},
   "source": [
    "- To conclude a 1-unit increase in female crab width the number of satellite crabs will increase, which will be multiplied by 1.18."
   ]
  },
  {
   "cell_type": "markdown",
   "metadata": {},
   "source": [
    "### Poisson confidence intervals\n",
    "- Using the previously fitted horseshoes crab model sat ~ width analyze uncertainty of the coefficient estimates by computing the confidence intervals for β1 and the confidence intervals for the multiplicative effect on the mean."
   ]
  },
  {
   "cell_type": "code",
   "execution_count": 42,
   "metadata": {},
   "outputs": [
    {
     "name": "stdout",
     "output_type": "stream",
     "text": [
      "                  0         1\n",
      "Intercept  0.012683  0.106248\n",
      "width      1.133051  1.225289\n"
     ]
    }
   ],
   "source": [
    "# Compute confidence intervals for the coefficients\n",
    "model_ci = model.conf_int()\n",
    "\n",
    "# Compute and print the confidence intervals for the multiplicative effect on the mean\n",
    "print(np.exp(model_ci))"
   ]
  },
  {
   "cell_type": "markdown",
   "metadata": {},
   "source": [
    "- The multiplicative effect on the mean response for a 1-unit increase in width is at least 1.13 and at most 1.22."
   ]
  },
  {
   "cell_type": "markdown",
   "metadata": {},
   "source": [
    "### Fit a multivariable logistic regression"
   ]
  },
  {
   "cell_type": "code",
   "execution_count": 43,
   "metadata": {},
   "outputs": [
    {
     "name": "stdout",
     "output_type": "stream",
     "text": [
      "                 Generalized Linear Model Regression Results                  \n",
      "==============================================================================\n",
      "Dep. Variable:                      y   No. Observations:                  173\n",
      "Model:                            GLM   Df Residuals:                      170\n",
      "Model Family:                Binomial   Df Model:                            2\n",
      "Link Function:                  logit   Scale:                          1.0000\n",
      "Method:                          IRLS   Log-Likelihood:                -94.561\n",
      "Date:                Mon, 15 Jun 2020   Deviance:                       189.12\n",
      "Time:                        17:29:51   Pearson chi2:                     170.\n",
      "No. Iterations:                     5                                         \n",
      "Covariance Type:            nonrobust                                         \n",
      "==============================================================================\n",
      "                 coef    std err          z      P>|z|      [0.025      0.975]\n",
      "------------------------------------------------------------------------------\n",
      "Intercept    -10.0708      2.807     -3.588      0.000     -15.572      -4.569\n",
      "width          0.4583      0.104      4.406      0.000       0.254       0.662\n",
      "color         -0.5090      0.224     -2.276      0.023      -0.947      -0.071\n",
      "==============================================================================\n"
     ]
    }
   ],
   "source": [
    "# Define model formula\n",
    "formula = 'y ~ width + color'\n",
    "\n",
    "# Fit GLM\n",
    "model = glm(formula, data = crab, family = sm.families.Binomial()).fit()\n",
    "\n",
    "# Print model summary\n",
    "print(model.summary())"
   ]
  },
  {
   "cell_type": "markdown",
   "metadata": {},
   "source": [
    "- From model summary note that for each one-level increase in color of the female crab, the estimated odds multiply by exp(-0.509)=0.6, i.e. the odds for dark crabs are 60% than those for medium crabs."
   ]
  },
  {
   "cell_type": "markdown",
   "metadata": {},
   "source": [
    "### The effect of multicollinearity\n",
    "- Using the crab dataset we will analyze the effects of multicollinearity. Recall that multicollinearity can have the following effects:\n",
    "\n",
    "\n",
    "1. Coefficient is not significant, but variable is highly correlated with y.\n",
    "2. Adding/removing a variable significantly changes coefficients.\n",
    "3. Not logical sign of the coefficient.\n",
    "4. Variables have high pairwise correlation."
   ]
  },
  {
   "cell_type": "code",
   "execution_count": 44,
   "metadata": {},
   "outputs": [
    {
     "name": "stdout",
     "output_type": "stream",
     "text": [
      "                 Generalized Linear Model Regression Results                  \n",
      "==============================================================================\n",
      "Dep. Variable:                      y   No. Observations:                  173\n",
      "Model:                            GLM   Df Residuals:                      170\n",
      "Model Family:                Binomial   Df Model:                            2\n",
      "Link Function:                  logit   Scale:                          1.0000\n",
      "Method:                          IRLS   Log-Likelihood:                -96.446\n",
      "Date:                Mon, 15 Jun 2020   Deviance:                       192.89\n",
      "Time:                        17:33:35   Pearson chi2:                     167.\n",
      "No. Iterations:                     5                                         \n",
      "Covariance Type:            nonrobust                                         \n",
      "==============================================================================\n",
      "                 coef    std err          z      P>|z|      [0.025      0.975]\n",
      "------------------------------------------------------------------------------\n",
      "Intercept     -9.3547      3.528     -2.652      0.008     -16.270      -2.440\n",
      "weight         0.8338      0.672      1.241      0.214      -0.483       2.150\n",
      "width          0.3068      0.182      1.686      0.092      -0.050       0.663\n",
      "==============================================================================\n"
     ]
    }
   ],
   "source": [
    "# Define model formula\n",
    "formula = 'y ~ weight + width'\n",
    "\n",
    "# Fit GLM\n",
    "model = glm(formula, data = crab, family = sm.families.Binomial()).fit()\n",
    "\n",
    "# Print model summary\n",
    "print(model.summary())"
   ]
  },
  {
   "cell_type": "markdown",
   "metadata": {},
   "source": [
    "- Notice that the neither weight nor width are statistically significant. Recall that when we fitted univariate logistic regressions for each variable, both variables where statistically significant. There is evident presence of multicollinearity!"
   ]
  },
  {
   "cell_type": "markdown",
   "metadata": {},
   "source": [
    "### Compute VIF\n",
    "- the most widely used diagnostic for multicollinearity is the `variance inflation factor or VIF`, which is computed for each explanatory variable.\n",
    "- The rule of thumb threshold is VIF at the level of 2.5, meaning if the VIF is above 2.5 we should consider there is effect of multicollinearity on our fitted model."
   ]
  },
  {
   "cell_type": "code",
   "execution_count": 108,
   "metadata": {},
   "outputs": [
    {
     "name": "stderr",
     "output_type": "stream",
     "text": [
      "C:\\Users\\Shubham\\Anaconda3\\lib\\site-packages\\ipykernel_launcher.py:6: SettingWithCopyWarning: \n",
      "A value is trying to be set on a copy of a slice from a DataFrame.\n",
      "Try using .loc[row_indexer,col_indexer] = value instead\n",
      "\n",
      "See the caveats in the documentation: https://pandas.pydata.org/pandas-docs/stable/user_guide/indexing.html#returning-a-view-versus-a-copy\n",
      "  \n"
     ]
    },
    {
     "name": "stdout",
     "output_type": "stream",
     "text": [
      "   variables         VIF\n",
      "0     weight    4.691018\n",
      "1      width    4.726378\n",
      "2      color    1.076594\n",
      "3  Intercept  414.163343\n"
     ]
    }
   ],
   "source": [
    "# Import functions\n",
    "from statsmodels.stats.outliers_influence import variance_inflation_factor\n",
    "\n",
    "# Get variables for which to compute VIF and add intercept term\n",
    "X = crab[['weight', 'width', 'color']]\n",
    "X['Intercept'] = 1\n",
    "\n",
    "# Compute and view VIF\n",
    "vif = pd.DataFrame()\n",
    "vif[\"variables\"] = X.columns\n",
    "vif[\"VIF\"] = [variance_inflation_factor(X.values, i) for i in range(X.shape[1])]\n",
    "\n",
    "# View results using print\n",
    "print(vif)"
   ]
  },
  {
   "cell_type": "markdown",
   "metadata": {},
   "source": [
    "- With VIF well above 2.5 for weight and width means that there is multicollinearity present in the model and we cannot use both variables in the model."
   ]
  },
  {
   "cell_type": "markdown",
   "metadata": {},
   "source": [
    "### Checking model fit"
   ]
  },
  {
   "cell_type": "code",
   "execution_count": 112,
   "metadata": {},
   "outputs": [
    {
     "name": "stdout",
     "output_type": "stream",
     "text": [
      "188.76305963384857\n"
     ]
    }
   ],
   "source": [
    "# Define model formula\n",
    "formula = 'switch ~ distance100 + arsenic'\n",
    "\n",
    "# Fit GLM\n",
    "model_dist_ars = glm(formula, data = wells, family = sm.families.Binomial()).fit()\n",
    "\n",
    "# Compare deviance of null and residual model\n",
    "diff_deviance = model_dist_ars.null_deviance - model_dist_ars.deviance\n",
    "\n",
    "# Print the computed difference in deviance\n",
    "print(diff_deviance)"
   ]
  },
  {
   "cell_type": "markdown",
   "metadata": {},
   "source": [
    "- Having both distance100 and arsenic in the model reduces deviance by 187 compared to the intercept only model. But what is the actual impact of additional variable arsenic?"
   ]
  },
  {
   "cell_type": "markdown",
   "metadata": {},
   "source": [
    "### Compare two models\n",
    "- We have fitted a model with distance100 and arsenic as explanatory variables. Analyze the impact on the model fit for each of the added variables.\n",
    "- Models we fitted are as follows :\n",
    "\n",
    "\n",
    "1. model_dist = 'switch ~ distance100'\n",
    "2. model_dist_ars = 'switch ~ distance100 + arsenic'\n"
   ]
  },
  {
   "cell_type": "code",
   "execution_count": 113,
   "metadata": {},
   "outputs": [],
   "source": [
    "formula = 'switch ~ distance100'\n",
    "\n",
    "# Fit GLM\n",
    "model_dist = glm(formula, data = wells, family = sm.families.Binomial()).fit()\n"
   ]
  },
  {
   "cell_type": "code",
   "execution_count": 114,
   "metadata": {},
   "outputs": [
    {
     "name": "stdout",
     "output_type": "stream",
     "text": [
      "Adding distance100 to the null model reduces deviance by:  42.726\n",
      "Adding arsenic to the distance model reduced deviance further by:  146.037\n"
     ]
    }
   ],
   "source": [
    "# Compute the difference in adding distance100 variable\n",
    "diff_deviance_distance = model_dist.null_deviance - model_dist.deviance\n",
    "\n",
    "# Print the computed difference in deviance\n",
    "print('Adding distance100 to the null model reduces deviance by: ', \n",
    "      round(diff_deviance_distance,3))\n",
    "\n",
    "# Compute the difference in adding arsenic variable\n",
    "diff_deviance_arsenic = model_dist.deviance - model_dist_ars.deviance\n",
    "\n",
    "# Print the computed difference in deviance\n",
    "print('Adding arsenic to the distance model reduced deviance further by: ', \n",
    "      round(diff_deviance_arsenic,3))"
   ]
  },
  {
   "cell_type": "markdown",
   "metadata": {},
   "source": [
    "- Adding distance100 to the null model reduces deviance by 41.9 and with an addition of arsenic the deviance further reduces by 145. Having such large reduction than expected reduction by 1 we can conclude that the multivariate model has improved the model fit."
   ]
  },
  {
   "cell_type": "markdown",
   "metadata": {},
   "source": [
    "### Deviance and linear transformation\n",
    "- the deviance decreased as we added a variable that improves the model fit.Check what happens when there is a linear transformation of the variable.\n",
    "- Note that the variable distance100 is the original variable distance divided by 100 to make for more meaningful representation and interpretation of the results."
   ]
  },
  {
   "cell_type": "code",
   "execution_count": 116,
   "metadata": {},
   "outputs": [
    {
     "data": {
      "text/html": [
       "<div>\n",
       "<style scoped>\n",
       "    .dataframe tbody tr th:only-of-type {\n",
       "        vertical-align: middle;\n",
       "    }\n",
       "\n",
       "    .dataframe tbody tr th {\n",
       "        vertical-align: top;\n",
       "    }\n",
       "\n",
       "    .dataframe thead th {\n",
       "        text-align: right;\n",
       "    }\n",
       "</style>\n",
       "<table border=\"1\" class=\"dataframe\">\n",
       "  <thead>\n",
       "    <tr style=\"text-align: right;\">\n",
       "      <th></th>\n",
       "      <th>switch</th>\n",
       "      <th>arsenic</th>\n",
       "      <th>distance</th>\n",
       "      <th>assoc</th>\n",
       "      <th>education</th>\n",
       "      <th>distance100</th>\n",
       "      <th>education4</th>\n",
       "      <th>prediction</th>\n",
       "    </tr>\n",
       "  </thead>\n",
       "  <tbody>\n",
       "    <tr>\n",
       "      <th>0</th>\n",
       "      <td>1</td>\n",
       "      <td>2.36</td>\n",
       "      <td>0.001683</td>\n",
       "      <td>0</td>\n",
       "      <td>0</td>\n",
       "      <td>0.16826</td>\n",
       "      <td>0</td>\n",
       "      <td>0.623625</td>\n",
       "    </tr>\n",
       "    <tr>\n",
       "      <th>1</th>\n",
       "      <td>1</td>\n",
       "      <td>0.71</td>\n",
       "      <td>0.004732</td>\n",
       "      <td>0</td>\n",
       "      <td>0</td>\n",
       "      <td>0.47322</td>\n",
       "      <td>0</td>\n",
       "      <td>0.577646</td>\n",
       "    </tr>\n",
       "    <tr>\n",
       "      <th>2</th>\n",
       "      <td>0</td>\n",
       "      <td>2.07</td>\n",
       "      <td>0.002097</td>\n",
       "      <td>0</td>\n",
       "      <td>10</td>\n",
       "      <td>0.20967</td>\n",
       "      <td>2</td>\n",
       "      <td>0.617491</td>\n",
       "    </tr>\n",
       "    <tr>\n",
       "      <th>3</th>\n",
       "      <td>1</td>\n",
       "      <td>1.15</td>\n",
       "      <td>0.002149</td>\n",
       "      <td>0</td>\n",
       "      <td>12</td>\n",
       "      <td>0.21486</td>\n",
       "      <td>2</td>\n",
       "      <td>0.616720</td>\n",
       "    </tr>\n",
       "    <tr>\n",
       "      <th>4</th>\n",
       "      <td>1</td>\n",
       "      <td>1.10</td>\n",
       "      <td>0.004087</td>\n",
       "      <td>1</td>\n",
       "      <td>14</td>\n",
       "      <td>0.40874</td>\n",
       "      <td>3</td>\n",
       "      <td>0.587510</td>\n",
       "    </tr>\n",
       "  </tbody>\n",
       "</table>\n",
       "</div>"
      ],
      "text/plain": [
       "   switch  arsenic  distance  assoc  education  distance100  education4  \\\n",
       "0       1     2.36  0.001683      0          0      0.16826           0   \n",
       "1       1     0.71  0.004732      0          0      0.47322           0   \n",
       "2       0     2.07  0.002097      0         10      0.20967           2   \n",
       "3       1     1.15  0.002149      0         12      0.21486           2   \n",
       "4       1     1.10  0.004087      1         14      0.40874           3   \n",
       "\n",
       "   prediction  \n",
       "0    0.623625  \n",
       "1    0.577646  \n",
       "2    0.617491  \n",
       "3    0.616720  \n",
       "4    0.587510  "
      ]
     },
     "execution_count": 116,
     "metadata": {},
     "output_type": "execute_result"
    }
   ],
   "source": [
    "wells_transform = wells.copy(deep=True)\n",
    "wells_transform['distance'] = wells['distance100'] / 100\n",
    "wells_transform.head()"
   ]
  },
  {
   "cell_type": "code",
   "execution_count": 117,
   "metadata": {},
   "outputs": [
    {
     "name": "stdout",
     "output_type": "stream",
     "text": [
      "Difference in deviance is:  0.0\n"
     ]
    }
   ],
   "source": [
    "# Fit logistic regression model as save as model_dist_1\n",
    "model_dist_1 = glm('switch ~ distance', data = wells, family = sm.families.Binomial()).fit()\n",
    "\n",
    "# Check the difference in deviance of model_dist_1 and model_dist\n",
    "print('Difference in deviance is: ', round(model_dist_1.deviance - model_dist.deviance,3))"
   ]
  },
  {
   "cell_type": "markdown",
   "metadata": {},
   "source": [
    "- Note that linear transformations do not change the model error and hence the deviance remains the same. The reason being since linear transformation does not add new data information to the model."
   ]
  },
  {
   "cell_type": "code",
   "execution_count": null,
   "metadata": {},
   "outputs": [],
   "source": []
  }
 ],
 "metadata": {
  "kernelspec": {
   "display_name": "Python 3",
   "language": "python",
   "name": "python3"
  },
  "language_info": {
   "codemirror_mode": {
    "name": "ipython",
    "version": 3
   },
   "file_extension": ".py",
   "mimetype": "text/x-python",
   "name": "python",
   "nbconvert_exporter": "python",
   "pygments_lexer": "ipython3",
   "version": "3.7.3"
  }
 },
 "nbformat": 4,
 "nbformat_minor": 2
}
